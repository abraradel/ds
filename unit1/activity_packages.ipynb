{
  "nbformat": 4,
  "nbformat_minor": 0,
  "metadata": {
    "colab": {
      "name": "activity-packages.ipynb",
      "provenance": [],
      "authorship_tag": "ABX9TyOj0ZMj8VbFF9EiQQIhtCEN",
      "include_colab_link": true
    },
    "kernelspec": {
      "name": "python3",
      "display_name": "Python 3"
    }
  },
  "cells": [
    {
      "cell_type": "markdown",
      "metadata": {
        "id": "view-in-github",
        "colab_type": "text"
      },
      "source": [
        "<a href=\"https://colab.research.google.com/github/Ruqyai/ds/blob/master/unit1/activity_packages.ipynb\" target=\"_parent\"><img src=\"https://colab.research.google.com/assets/colab-badge.svg\" alt=\"Open In Colab\"/></a>"
      ]
    },
    {
      "cell_type": "code",
      "metadata": {
        "id": "F5L4xlBdCwMr",
        "colab_type": "code",
        "colab": {
          "base_uri": "https://localhost:8080/",
          "height": 71
        },
        "outputId": "65660f27-acfe-4a63-a818-ceb67d9e61b0"
      },
      "source": [
        "import numpy as np\n",
        "import pandas as pd\n",
        "import seaborn as sns"
      ],
      "execution_count": 1,
      "outputs": [
        {
          "output_type": "stream",
          "text": [
            "/usr/local/lib/python3.6/dist-packages/statsmodels/tools/_testing.py:19: FutureWarning: pandas.util.testing is deprecated. Use the functions in the public API at pandas.testing instead.\n",
            "  import pandas.util.testing as tm\n"
          ],
          "name": "stderr"
        }
      ]
    },
    {
      "cell_type": "code",
      "metadata": {
        "id": "rH34yOk0DCtT",
        "colab_type": "code",
        "colab": {}
      },
      "source": [
        "# TODO - Numpy - Find square root of 1024 => 32\n"
      ],
      "execution_count": 2,
      "outputs": []
    },
    {
      "cell_type": "code",
      "metadata": {
        "id": "8Rydlup3DEyE",
        "colab_type": "code",
        "colab": {}
      },
      "source": [
        "# TODO - Pandas - Convert list1 to DataFrame and remove the duplicates\n",
        "list1 = [1, 2, 3, 4, 5, 6, 7, 8, 8, 9, 10]\n"
      ],
      "execution_count": 3,
      "outputs": []
    },
    {
      "cell_type": "code",
      "metadata": {
        "id": "wpQIphcHDH6E",
        "colab_type": "code",
        "colab": {}
      },
      "source": [
        "# TODO - Seaborn - Visualize df using boxplot\n"
      ],
      "execution_count": 4,
      "outputs": []
    }
  ]
}