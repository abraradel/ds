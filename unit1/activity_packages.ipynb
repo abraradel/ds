{
  "nbformat": 4,
  "nbformat_minor": 0,
  "metadata": {
    "colab": {
      "name": "activity-packages.ipynb",
      "provenance": [],
      "authorship_tag": "ABX9TyNGM0x1MXsrNG/EO24htws9",
      "include_colab_link": true
    },
    "kernelspec": {
      "name": "python3",
      "display_name": "Python 3"
    }
  },
  "cells": [
    {
      "cell_type": "markdown",
      "metadata": {
        "id": "view-in-github",
        "colab_type": "text"
      },
      "source": [
        "<a href=\"https://colab.research.google.com/github/Ruqyai/ds/blob/master/unit1/activity_packages.ipynb\" target=\"_parent\"><img src=\"https://colab.research.google.com/assets/colab-badge.svg\" alt=\"Open In Colab\"/></a>"
      ]
    },
    {
      "cell_type": "code",
      "metadata": {
        "id": "F5L4xlBdCwMr",
        "colab_type": "code",
        "colab": {
          "base_uri": "https://localhost:8080/",
          "height": 71
        },
        "outputId": "cb953e06-c372-4abe-ee5d-63d2ff74d6b2"
      },
      "source": [
        "import numpy as np\n",
        "import pandas as pd\n",
        "import matplotlib.pyplot as plt\n",
        "import seaborn as sns"
      ],
      "execution_count": 1,
      "outputs": [
        {
          "output_type": "stream",
          "text": [
            "/usr/local/lib/python3.6/dist-packages/statsmodels/tools/_testing.py:19: FutureWarning: pandas.util.testing is deprecated. Use the functions in the public API at pandas.testing instead.\n",
            "  import pandas.util.testing as tm\n"
          ],
          "name": "stderr"
        }
      ]
    },
    {
      "cell_type": "code",
      "metadata": {
        "id": "rH34yOk0DCtT",
        "colab_type": "code",
        "colab": {
          "base_uri": "https://localhost:8080/",
          "height": 34
        },
        "outputId": "923798dd-3e64-41d2-f21f-75563aa7c557"
      },
      "source": [
        "# Numpy - Find square root of 1024 => 32\n",
        "print(np.sqrt(1024))"
      ],
      "execution_count": 2,
      "outputs": [
        {
          "output_type": "stream",
          "text": [
            "32.0\n"
          ],
          "name": "stdout"
        }
      ]
    },
    {
      "cell_type": "code",
      "metadata": {
        "id": "8Rydlup3DEyE",
        "colab_type": "code",
        "colab": {
          "base_uri": "https://localhost:8080/",
          "height": 51
        },
        "outputId": "f6fd4551-79f5-45be-a7e0-f82820af7dfc"
      },
      "source": [
        "# Pandas - Convert list1 to DataFrame and remove the duplicates\n",
        "list1 = [1, 2, 3, 4, 5, 6, 7, 8, 8, 9, 10]\n",
        "\n",
        "df = pd.DataFrame(list1)\n",
        "print(\"Shape before: \", df.shape)  # (11, 1)\n",
        "df = df.drop_duplicates()\n",
        "print(\"Shape after: \", df.shape)  # (10, 1)"
      ],
      "execution_count": 3,
      "outputs": [
        {
          "output_type": "stream",
          "text": [
            "Shape before:  (11, 1)\n",
            "Shape after:  (10, 1)\n"
          ],
          "name": "stdout"
        }
      ]
    },
    {
      "cell_type": "code",
      "metadata": {
        "id": "wpQIphcHDH6E",
        "colab_type": "code",
        "colab": {
          "base_uri": "https://localhost:8080/",
          "height": 268
        },
        "outputId": "e86e1f94-03dc-410f-bdd3-97ceab46f574"
      },
      "source": [
        "# Seaborn - Visualize df using boxplot\n",
        "sns.set(style='darkgrid')\n",
        "sns.boxplot(df)\n",
        "plt.show()"
      ],
      "execution_count": 4,
      "outputs": [
        {
          "output_type": "display_data",
          "data": {
            "image/png": "[encoded data removed]",
            "text/plain": [
              "<Figure size 432x288 with 1 Axes>"
            ]
          },
          "metadata": {
            "tags": []
          }
        }
      ]
    }
  ]
}