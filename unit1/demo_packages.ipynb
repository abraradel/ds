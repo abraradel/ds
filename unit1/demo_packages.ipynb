{
  "nbformat": 4,
  "nbformat_minor": 0,
  "metadata": {
    "colab": {
      "name": "demo-packages.ipynb",
      "provenance": [],
      "authorship_tag": "ABX9TyOc84aTOOXFEjMC7ckgZ5Jt",
      "include_colab_link": true
    },
    "kernelspec": {
      "name": "python3",
      "display_name": "Python 3"
    }
  },
  "cells": [
    {
      "cell_type": "markdown",
      "metadata": {
        "id": "view-in-github",
        "colab_type": "text"
      },
      "source": [
        "<a href=\"https://colab.research.google.com/github/Ruqyai/ds/blob/master/unit1/demo_packages.ipynb\" target=\"_parent\"><img src=\"https://colab.research.google.com/assets/colab-badge.svg\" alt=\"Open In Colab\"/></a>"
      ]
    },
    {
      "cell_type": "code",
      "metadata": {
        "id": "hLfY2npyFSmH",
        "colab_type": "code",
        "colab": {}
      },
      "source": [
        "import numpy as np\n",
        "import pandas as pd\n",
        "import matplotlib.pyplot as plt\n",
        "import seaborn as sns\n"
      ],
      "execution_count": 0,
      "outputs": []
    },
    {
      "cell_type": "code",
      "metadata": {
        "id": "FMnYqQZBEYeI",
        "colab_type": "code",
        "colab": {}
      },
      "source": [
        "# ----------------------------------------------------- Numpy ------------------------------------------------------- #\n",
        "\n",
        "# In NumPy dimensions are called axes.\n",
        "# The list arr has 2 axes. The first axis has a length of 2, the second axis has a length of 3.\n",
        "list1 = [[1., 0., 0.], [0., 1., 2.]]\n",
        "\n",
        "# Convert list1 to numpy array.\n",
        "arr = np.asarray(list1)\n",
        "\n",
        "# Create numpy array\n",
        "arr2 = np.array([1, 2, 3, 4])\n",
        "\n",
        "# Print the number of axes (dimensions) of the array.\n",
        "# print(\"Number of axes:\", arr.ndim)\n",
        "\n",
        "# Print #rows and #columns. For a matrix with n rows and m columns, shape will be (n, m).\n",
        "# print(\"Shape:\", arr.shape)\n",
        "\n",
        "# Print the total number of elements of the array. This is equal to the product of the elements of shape.\n",
        "# print(\"Total number of elements:\", arr.size)\n",
        "\n",
        "# Print an object describing the type of the elements in the array.\n",
        "# print(\"The type of the elements in the array:\", arr.dtype)\n",
        "\n",
        "# Square root\n",
        "s = 25\n",
        "# print(\"Square root of 25 is:\", np.sqrt(s))\n",
        "\n",
        "# Power\n",
        "p = 6\n",
        "# print(\"6 to the power 2 is:\", np.power(p, 2))\n"
      ],
      "execution_count": 0,
      "outputs": []
    },
    {
      "cell_type": "code",
      "metadata": {
        "id": "cdlUnWULEiXk",
        "colab_type": "code",
        "colab": {}
      },
      "source": [
        "# ----------------------------------------------------- Pandas ------------------------------------------------------ #\n",
        "\n",
        "# Convert from list to pandas DataFrame\n",
        "numbers = [3, 4, 5, 6, 7]\n",
        "newDF = pd.DataFrame(numbers)\n",
        "# print(\"New DataFrame:\")\n",
        "# print(newDF)\n",
        "\n",
        "# Create pandas DataFrame.\n",
        "df = pd.DataFrame([[1, 2, 3], [4, 5, 6], [7, 8, 9], [10, 11, 12], [13, 14, 15], [16, 17, 18]])\n",
        "\n",
        "# To view a small sample of a DataFrame object, use the head() and tail().\n",
        "# Default number of elements to display is 5, but you may pass a custom number.\n",
        "# print(\"Head of df:\")\n",
        "# print(df.head())\n",
        "\n",
        "# print(\"\\nHead of df with custom number:\")\n",
        "# print(df.head(2))\n",
        "\n",
        "# print(\"\\nTail of df:\")\n",
        "# print(df.tail())\n",
        "\n",
        "# print(\"\\nTail of df with custom number:\")\n",
        "# print(df.tail(2))\n",
        "\n",
        "# Print shape of df\n",
        "# print(\"Shape:\", df.shape)\n",
        "\n",
        "# Print from index 0 to 2 (2 is excluded) => 0 to 1\n",
        "# print(df[0:2], end='\\n\\n')\n",
        "\n",
        "# OR (if we didn't specify the first index it means 0)\n",
        "# print(df[:2])\n",
        "\n",
        "# Print all rows except last 2\n",
        "# print(df[:-2])\n",
        "\n",
        "# To find what all columns it contains, of what types and if they contain any value in it or not. Use info()\n",
        "# print(df.info())\n",
        "\n",
        "# To find the count, mean, standard deviation, minimum and maximum values and the quantities of the data. Use describe()\n",
        "# print(df.describe())\n",
        "\n",
        "# To remove a column\n",
        "# print(df.drop(columns=[1], axis=1))\n",
        "\n",
        "# To remove a row\n",
        "# print(df.drop(index=0, axis=0))\n",
        "\n",
        "# Create new DataFrame with duplicate rows\n",
        "df2 = pd.DataFrame([[1, 2, 3], [1, 2, 3], [4, 5, 6], [4, 5, 6], [7, 8, 9], [7, 8, 9]])\n",
        "\n",
        "# To remove duplicate rows use drop_duplicates()\n",
        "df2 = df2.drop_duplicates()\n",
        "# print(df2)\n",
        "\n",
        "# Read csv file (dataset)\n",
        "df3 = pd.read_csv('hotaling_cocktails - Cocktails.csv')\n"
      ],
      "execution_count": 0,
      "outputs": []
    },
    {
      "cell_type": "code",
      "metadata": {
        "id": "QQmlWj5YE5Ij",
        "colab_type": "code",
        "colab": {}
      },
      "source": [
        "# ----------------------------------------------------- Sklearn ----------------------------------------------------- #\n",
        "\n",
        "# There are many uses of sklearn:\n",
        "# fit() to train the model\n",
        "# predict() to test the model\n",
        "# to evaluate the model\n",
        "# to visualize the results\n",
        "# to split the dataset into training and testing\n",
        "# to use different classifiers\n",
        "\n"
      ],
      "execution_count": 0,
      "outputs": []
    },
    {
      "cell_type": "code",
      "metadata": {
        "id": "dl35Hd_bE8P3",
        "colab_type": "code",
        "colab": {}
      },
      "source": [
        "# ----------------------------------------------------- Seaborn ----------------------------------------------------- #\n",
        "\n",
        "# We can use seaborn also to create statistical data visualization\n",
        "# Seaborn built on top of the Matplotlib library. Seaborn is fast and easy to learn.\n",
        "\n",
        "# Set background color\n",
        "# sns.set(style='darkgrid')\n",
        "\n",
        "# Create boxplot for df ([[1, 2, 3], [4, 5, 6], [7, 8, 9], [10, 11, 12], [13, 14, 15], [16, 17, 18]])\n",
        "# orient = 'v' => set the orientation as vertical, the default is horizontal\n",
        "# sns.boxplot(df, orient='v')\n",
        "\n",
        "# Display the figure\n",
        "# plt.show()"
      ],
      "execution_count": 0,
      "outputs": []
    }
  ]
}