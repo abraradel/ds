{
  "nbformat": 4,
  "nbformat_minor": 0,
  "metadata": {
    "colab": {
      "name": "demo-regression.ipynb",
      "provenance": [],
      "authorship_tag": "ABX9TyPn4UnVWxPtmnT1G6842JVn",
      "include_colab_link": true
    },
    "kernelspec": {
      "name": "python3",
      "display_name": "Python 3"
    }
  },
  "cells": [
    {
      "cell_type": "markdown",
      "metadata": {
        "id": "view-in-github",
        "colab_type": "text"
      },
      "source": [
        "<a href=\"https://colab.research.google.com/github/Ruqyai/ds/blob/master/unit3/predictive-modeling-regression/demo_regression.ipynb\" target=\"_parent\"><img src=\"https://colab.research.google.com/assets/colab-badge.svg\" alt=\"Open In Colab\"/></a>"
      ]
    },
    {
      "cell_type": "code",
      "metadata": {
        "id": "sz1dLZTnaNAP",
        "colab_type": "code",
        "colab": {
          "base_uri": "https://localhost:8080/",
          "height": 71
        },
        "outputId": "be0a9f62-c87e-4263-838a-e5c221572db5"
      },
      "source": [
        "import pandas as pd\n",
        "import numpy as np\n",
        "import seaborn as sns\n",
        "import matplotlib.pyplot as plt\n",
        "from sklearn.model_selection import train_test_split\n",
        "from sklearn.tree import DecisionTreeRegressor\n",
        "from sklearn.metrics import mean_squared_error\n",
        "from sklearn.tree import export_graphviz  # Visualization\n",
        "\n",
        "\n",
        "dataset = pd.read_csv('Boston.csv')"
      ],
      "execution_count": 1,
      "outputs": [
        {
          "output_type": "stream",
          "text": [
            "/usr/local/lib/python3.6/dist-packages/statsmodels/tools/_testing.py:19: FutureWarning: pandas.util.testing is deprecated. Use the functions in the public API at pandas.testing instead.\n",
            "  import pandas.util.testing as tm\n"
          ],
          "name": "stderr"
        }
      ]
    },
    {
      "cell_type": "code",
      "metadata": {
        "id": "a940iEiHaSfL",
        "colab_type": "code",
        "colab": {}
      },
      "source": [
        "\n",
        "# ----------------------------------------------- EDA & Preprocessing ----------------------------------------------- #\n",
        "\n",
        "# check if there is any missing value\n",
        "# sns.set()\n",
        "# sns.heatmap(dataset.isnull(), cmap='viridis')\n",
        "# plt.show()"
      ],
      "execution_count": 0,
      "outputs": []
    },
    {
      "cell_type": "code",
      "metadata": {
        "id": "693_SXfRaXxC",
        "colab_type": "code",
        "colab": {}
      },
      "source": [
        "\n",
        "# ----------------------------------------------- Feature Engineering ----------------------------------------------- #\n",
        "\n",
        "# split dataset in features and target variable\n",
        "features = dataset.iloc[:, 6:7].values\n",
        "target = dataset.iloc[:, 14].values\n"
      ],
      "execution_count": 0,
      "outputs": []
    },
    {
      "cell_type": "code",
      "metadata": {
        "id": "3cGJEQhcabhf",
        "colab_type": "code",
        "colab": {}
      },
      "source": [
        "# ----------------------------------------------- Predictive Modeling ----------------------------------------------- #\n",
        "\n",
        "# Split dataset into training set and test set 70% training and 30% test\n",
        "X_train, X_test, y_train, y_test = train_test_split(features, target, test_size=0.3, random_state=0)\n",
        "\n",
        "# Create Decision Tree Regressor object\n",
        "clf = DecisionTreeRegressor(max_depth=3)\n",
        "\n",
        "# Train Decision Tree Regressor\n",
        "clf.fit(X_train, y_train)\n",
        "\n",
        "# Predict the response for test dataset\n",
        "y_pred = clf.predict(X_test)\n"
      ],
      "execution_count": 0,
      "outputs": []
    },
    {
      "cell_type": "code",
      "metadata": {
        "id": "eJn3Jjm0aeW2",
        "colab_type": "code",
        "colab": {
          "base_uri": "https://localhost:8080/",
          "height": 51
        },
        "outputId": "be8f278b-7b1a-4eb4-a287-020ba8b52c4a"
      },
      "source": [
        "# ---------------------------------------------- Predictive Evaluation ---------------------------------------------- #\n",
        "\n",
        "print(\"Mean Squared Error (MSE): \", mean_squared_error(y_test, y_pred))\n",
        "print(\"Root Mean Squared Error (RMSE): \", np.sqrt(mean_squared_error(y_test, y_pred)))\n",
        "\n",
        "\n"
      ],
      "execution_count": 5,
      "outputs": [
        {
          "output_type": "stream",
          "text": [
            "Mean Squared Error (MSE):  41.26941141217946\n",
            "Root Mean Squared Error (RMSE):  6.424127287980793\n"
          ],
          "name": "stdout"
        }
      ]
    },
    {
      "cell_type": "code",
      "metadata": {
        "id": "fOUPM8Neagmv",
        "colab_type": "code",
        "colab": {}
      },
      "source": [
        "# ----------------------------------------------- Result Visualization ---------------------------------------------- #\n",
        "\n",
        "export_graphviz(clf, out_file='tree_regressor.dot',\n",
        "                feature_names=[\"rm\"], filled=True)\n",
        "\n",
        "# Open Terminal:  dot -Tpng tree_regressor.dot -o tree_regressor.png => save it as png\n",
        "# Samples = how many sample in the node\n",
        "# Value ="
      ],
      "execution_count": 0,
      "outputs": []
    }
  ]
}