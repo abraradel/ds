{
  "nbformat": 4,
  "nbformat_minor": 0,
  "metadata": {
    "colab": {
      "name": "tuning-max-depth-c.ipynb",
      "provenance": [],
      "authorship_tag": "ABX9TyNMH/IcTtT2sFz0XUg/ZGy3",
      "include_colab_link": true
    },
    "kernelspec": {
      "name": "python3",
      "display_name": "Python 3"
    }
  },
  "cells": [
    {
      "cell_type": "markdown",
      "metadata": {
        "id": "view-in-github",
        "colab_type": "text"
      },
      "source": [
        "<a href=\"https://colab.research.google.com/github/Ruqyai/ds/blob/master/unit3/predictive-modeling-classification/tuning_max_depth_c.ipynb\" target=\"_parent\"><img src=\"https://colab.research.google.com/assets/colab-badge.svg\" alt=\"Open In Colab\"/></a>"
      ]
    },
    {
      "cell_type": "code",
      "metadata": {
        "id": "g9KOekxHYO3s",
        "colab_type": "code",
        "colab": {
          "base_uri": "https://localhost:8080/",
          "height": 71
        },
        "outputId": "f03bc6f7-e8be-4308-ae4e-1992c6d4a9d0"
      },
      "source": [
        "import pandas as pd\n",
        "import seaborn as sns\n",
        "import matplotlib.pyplot as plt\n",
        "import numpy as np ###\n",
        "#from sklearn.preprocessing import Imputer\n",
        "from sklearn.impute import SimpleImputer ###\n",
        "from sklearn.preprocessing import LabelEncoder, OneHotEncoder\n",
        "from sklearn.model_selection import train_test_split\n",
        "from sklearn.tree import DecisionTreeClassifier\n",
        "from sklearn.metrics import accuracy_score\n",
        "from sklearn.tree import export_graphviz  # Visualization\n",
        "import warnings\n",
        "\n",
        "# disable warnings\n",
        "warnings.filterwarnings(\"ignore\")"
      ],
      "execution_count": 1,
      "outputs": [
        {
          "output_type": "stream",
          "text": [
            "/usr/local/lib/python3.6/dist-packages/statsmodels/tools/_testing.py:19: FutureWarning: pandas.util.testing is deprecated. Use the functions in the public API at pandas.testing instead.\n",
            "  import pandas.util.testing as tm\n"
          ],
          "name": "stderr"
        }
      ]
    },
    {
      "cell_type": "code",
      "metadata": {
        "id": "0pbORPNaYZC-",
        "colab_type": "code",
        "colab": {
          "base_uri": "https://localhost:8080/",
          "height": 204
        },
        "outputId": "e45cd1a7-8f5c-4aec-a236-60538117d261"
      },
      "source": [
        "\n",
        "\n",
        "!wget https://raw.githubusercontent.com/codeforgirls-sa/ds/master/unit3/predictive-modeling-classification/weatherAUS.csv\n",
        "\n",
        "dataset = pd.read_csv('weatherAUS.csv')\n"
      ],
      "execution_count": 2,
      "outputs": [
        {
          "output_type": "stream",
          "text": [
            "--2020-06-17 10:14:05--  https://raw.githubusercontent.com/codeforgirls-sa/ds/master/unit3/predictive-modeling-classification/weatherAUS.csv\n",
            "Resolving raw.githubusercontent.com (raw.githubusercontent.com)... 151.101.0.133, 151.101.64.133, 151.101.128.133, ...\n",
            "Connecting to raw.githubusercontent.com (raw.githubusercontent.com)|151.101.0.133|:443... connected.\n",
            "HTTP request sent, awaiting response... 200 OK\n",
            "Length: 14167326 (14M) [text/plain]\n",
            "Saving to: ‘weatherAUS.csv’\n",
            "\n",
            "\rweatherAUS.csv        0%[                    ]       0  --.-KB/s               \rweatherAUS.csv      100%[===================>]  13.51M  --.-KB/s    in 0.1s    \n",
            "\n",
            "2020-06-17 10:14:05 (92.6 MB/s) - ‘weatherAUS.csv’ saved [14167326/14167326]\n",
            "\n"
          ],
          "name": "stdout"
        }
      ]
    },
    {
      "cell_type": "code",
      "metadata": {
        "id": "5g7oIkPrv66g",
        "colab_type": "code",
        "colab": {}
      },
      "source": [
        "# We need to remove RISK_MM because we want to predict 'RainTomorrow' and RISK_MM can leak some info to our model\n",
        "dataset = dataset.drop('RISK_MM', axis=1)\n"
      ],
      "execution_count": 3,
      "outputs": []
    },
    {
      "cell_type": "code",
      "metadata": {
        "id": "1mGRHCZHwpsE",
        "colab_type": "code",
        "colab": {
          "base_uri": "https://localhost:8080/",
          "height": 363
        },
        "outputId": "62660056-656e-405f-d7ad-6bf4a63eea21"
      },
      "source": [
        "# check if there is any missing value\n",
        "sns.set()\n",
        "sns.heatmap(dataset.isnull(), cbar=False, yticklabels=False, cmap='viridis')\n",
        "# plt.show()\n"
      ],
      "execution_count": 4,
      "outputs": [
        {
          "output_type": "execute_result",
          "data": {
            "text/plain": [
              "<matplotlib.axes._subplots.AxesSubplot at 0x7facfcb2fb38>"
            ]
          },
          "metadata": {
            "tags": []
          },
          "execution_count": 4
        },
        {
          "output_type": "display_data",
          "data": {
            "image/png": "[encoded data removed]",
            "text/plain": [
              "<Figure size 432x288 with 1 Axes>"
            ]
          },
          "metadata": {
            "tags": []
          }
        }
      ]
    },
    {
      "cell_type": "code",
      "metadata": {
        "id": "M4YVOWANwtoc",
        "colab_type": "code",
        "colab": {}
      },
      "source": [
        "\n",
        "# remove missing values in numeric columns\n",
        "#imputer = SimpleImputer(missing_values='NaN', strategy='mean', axis=0)\n",
        "imputer = SimpleImputer(missing_values= np.NAN, strategy= 'mean', fill_value=None, verbose=0, copy=True) ###\n",
        "df_num_col = [\"MinTemp\", \"MaxTemp\", \"Rainfall\", \"Evaporation\", \"Sunshine\", \"WindGustSpeed\", \"WindSpeed9am\",\n",
        "              \"WindSpeed3pm\", \"Humidity9am\", \"Humidity3pm\", \"Pressure9am\", \"Pressure3pm\", \"Cloud9am\", \"Cloud3pm\",\n",
        "              \"Temp9am\", \"Temp3pm\"]\n",
        "\n",
        "data_num = dataset[df_num_col]\n",
        "imputer = imputer.fit(data_num)\n",
        "dataset[df_num_col] = imputer.transform(data_num)\n"
      ],
      "execution_count": 5,
      "outputs": []
    },
    {
      "cell_type": "code",
      "metadata": {
        "id": "CYrby14dwyR_",
        "colab_type": "code",
        "colab": {}
      },
      "source": [
        "# Use encoder for categorical variables\n",
        "label_encoder = LabelEncoder()\n",
        "df_cat_col = [\"WindGustDir\", \"WindDir9am\", \"WindDir3pm\", \"RainToday\", \"RainTomorrow\", \"Date\", \"Location\"]\n",
        "\n",
        "# Update NaN values by NA\n",
        "data_cat = dataset[df_cat_col].fillna('NA')\n",
        "\n",
        "# Loop through each categorical variable and update values using LabelEncoder\n",
        "# - remove missing values in categorical columns\n",
        "for i in range(len(data_cat.columns)):\n",
        "    data_cat.iloc[:, i] = label_encoder.fit_transform(data_cat.iloc[:, i])\n",
        "\n",
        "dataset[df_cat_col] = data_cat\n",
        "\n",
        "# split dataset in features and target variable\n",
        "features = dataset.iloc[:, 0:22].values\n",
        "target = dataset.iloc[:, 22].values"
      ],
      "execution_count": 6,
      "outputs": []
    },
    {
      "cell_type": "markdown",
      "metadata": {
        "id": "wlVv6onEwAK7",
        "colab_type": "text"
      },
      "source": [
        "#Predictive Modeling"
      ]
    },
    {
      "cell_type": "code",
      "metadata": {
        "id": "EXp2tFhDYdWP",
        "colab_type": "code",
        "colab": {
          "base_uri": "https://localhost:8080/",
          "height": 285
        },
        "outputId": "e2ab80a3-f0dd-43a3-f279-4e92222f1ef2"
      },
      "source": [
        "\n",
        "# Split dataset into training set and test set 70% training and 30% test\n",
        "X_train, X_test, y_train, y_test = train_test_split(features, target, test_size=0.3, random_state=0)\n",
        "\n",
        "# List of values to try for max_depth:\n",
        "max_depth_range = list(range(1, 20))\n",
        "# List to store the average RMSE for each value of max_depth:\n",
        "accuracy = []\n",
        "for depth in max_depth_range:\n",
        "    clf = DecisionTreeClassifier(max_depth=depth,\n",
        "                                 random_state=0)\n",
        "    clf.fit(X_train, y_train)\n",
        "    score = clf.score(X_test, y_test)\n",
        "    accuracy.append(score)\n",
        "\n",
        "sns.set()\n",
        "sns.lineplot(max_depth_range, accuracy)\n",
        "#plt.show()"
      ],
      "execution_count": 7,
      "outputs": [
        {
          "output_type": "execute_result",
          "data": {
            "text/plain": [
              "<matplotlib.axes._subplots.AxesSubplot at 0x7facfcb77668>"
            ]
          },
          "metadata": {
            "tags": []
          },
          "execution_count": 7
        },
        {
          "output_type": "display_data",
          "data": {
            "image/png": "[encoded data removed]",
            "text/plain": [
              "<Figure size 432x288 with 1 Axes>"
            ]
          },
          "metadata": {
            "tags": []
          }
        }
      ]
    }
  ]
}