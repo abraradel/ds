{
  "nbformat": 4,
  "nbformat_minor": 0,
  "metadata": {
    "colab": {
      "name": "demo-classification.ipynb",
      "provenance": [],
      "authorship_tag": "ABX9TyMJh8e2u+uFlHRJYJmCy8XF",
      "include_colab_link": true
    },
    "kernelspec": {
      "name": "python3",
      "display_name": "Python 3"
    }
  },
  "cells": [
    {
      "cell_type": "markdown",
      "metadata": {
        "id": "view-in-github",
        "colab_type": "text"
      },
      "source": [
        "<a href=\"https://colab.research.google.com/github/Ruqyai/ds/blob/master/unit3/predictive-modeling-classification/demo_classification.ipynb\" target=\"_parent\"><img src=\"https://colab.research.google.com/assets/colab-badge.svg\" alt=\"Open In Colab\"/></a>"
      ]
    },
    {
      "cell_type": "code",
      "metadata": {
        "id": "BgCohwitU4fZ",
        "colab_type": "code",
        "colab": {}
      },
      "source": [
        "import pandas as pd\n",
        "import seaborn as sns\n",
        "import matplotlib.pyplot as plt\n",
        "import numpy as np ###\n",
        "#from sklearn.preprocessing import Imputer\n",
        "from sklearn.impute import SimpleImputer ###\n",
        "from sklearn.preprocessing import LabelEncoder, OneHotEncoder\n",
        "from sklearn.model_selection import train_test_split\n",
        "from sklearn.tree import DecisionTreeClassifier\n",
        "from sklearn.metrics import accuracy_score\n",
        "from sklearn.tree import export_graphviz  # Visualization\n",
        "\n",
        "import warnings\n",
        "\n",
        "# disable warnings\n",
        "warnings.filterwarnings(\"ignore\")\n",
        "\n",
        "dataset = pd.read_csv('weatherAUS.csv')\n"
      ],
      "execution_count": 0,
      "outputs": []
    },
    {
      "cell_type": "code",
      "metadata": {
        "id": "nJ3FtyL3V2Rf",
        "colab_type": "code",
        "colab": {}
      },
      "source": [
        "# ----------------------------------------------- EDA & Preprocessing ----------------------------------------------- #\n",
        "\n",
        "# check if there is any missing value\n",
        "# sns.set()\n",
        "# sns.heatmap(dataset.isnull(), cmap='viridis')\n",
        "# plt.show()\n",
        "\n",
        "# remove missing values in numeric columns\n",
        "#imputer = SimpleImputer(missing_values='NaN', strategy='mean', axis=0)\n",
        "imputer = SimpleImputer(missing_values= np.NAN, strategy= 'mean', fill_value=None, verbose=0, copy=True) ###\n",
        "df_num_col = [\"MinTemp\", \"MaxTemp\", \"Rainfall\", \"Evaporation\", \"Sunshine\", \"WindGustSpeed\", \"WindSpeed9am\",\n",
        "              \"WindSpeed3pm\", \"Humidity9am\", \"Humidity3pm\", \"Pressure9am\", \"Pressure3pm\", \"Cloud9am\", \"Cloud3pm\",\n",
        "              \"Temp9am\", \"Temp3pm\"]\n",
        "\n",
        "data_num = dataset[df_num_col]\n",
        "imputer = imputer.fit(data_num)\n",
        "dataset[df_num_col] = imputer.transform(data_num)\n",
        "\n",
        "# Use encoder for categorical variables\n",
        "label_encoder = LabelEncoder()\n",
        "df_cat_col = [\"WindGustDir\", \"WindDir9am\", \"WindDir3pm\", \"RainToday\", \"RainTomorrow\", \"Date\", \"Location\"]\n",
        "\n",
        "# Update NaN values by NA\n",
        "data_cat = dataset[df_cat_col].fillna('NA')\n",
        "\n",
        "# Loop through each categorical variable and update values using LabelEncoder\n",
        "# - remove missing values in categorical columns\n",
        "for i in range(len(data_cat.columns)):\n",
        "    data_cat.iloc[:, i] = label_encoder.fit_transform(data_cat.iloc[:, i])\n",
        "\n",
        "dataset[df_cat_col] = data_cat\n",
        "\n",
        "# check if there is any missing value\n",
        "# sns.set()\n",
        "# sns.heatmap(dataset.isnull(), cmap='viridis')\n",
        "# plt.show()\n",
        "\n",
        "\n"
      ],
      "execution_count": 0,
      "outputs": []
    },
    {
      "cell_type": "code",
      "metadata": {
        "id": "YdM4ANBlV7CF",
        "colab_type": "code",
        "colab": {}
      },
      "source": [
        "# ----------------------------------------------- Feature Engineering ----------------------------------------------- #\n",
        "\n",
        "# We need to remove RISK_MM because we want to predict 'RainTomorrow' and RISK_MM can leak some info to our model\n",
        "dataset = dataset.drop('RISK_MM', axis=1)\n",
        "\n",
        "\n"
      ],
      "execution_count": 0,
      "outputs": []
    },
    {
      "cell_type": "code",
      "metadata": {
        "id": "bdqMy5O4V9aL",
        "colab_type": "code",
        "colab": {}
      },
      "source": [
        "# ----------------------------------------------- Predictive Modeling ----------------------------------------------- #\n",
        "\n",
        "# split dataset in features and target variable\n",
        "features = dataset.iloc[:, 0:22].values\n",
        "target = dataset.iloc[:, 22].values\n",
        "\n",
        "# Split dataset into training set and test set 70% training and 30% test\n",
        "X_train, X_test, y_train, y_test = train_test_split(features, target, test_size=0.3, random_state=0)\n",
        "\n",
        "# Create Decision Tree classifier object\n",
        "clf = DecisionTreeClassifier(random_state=0, max_depth=8)\n",
        "\n",
        "# Train Decision Tree Classifier\n",
        "clf = clf.fit(X_train, y_train)\n",
        "\n",
        "# Predict the response for test dataset\n",
        "y_pred = clf.predict(X_test)"
      ],
      "execution_count": 0,
      "outputs": []
    },
    {
      "cell_type": "code",
      "metadata": {
        "id": "Nd8QBdzSU8Ah",
        "colab_type": "code",
        "colab": {
          "base_uri": "https://localhost:8080/",
          "height": 34
        },
        "outputId": "99202e2b-bd19-418d-ca94-43a42c68dd55"
      },
      "source": [
        "# ---------------------------------------------- Predictive Evaluation ---------------------------------------------- #\n",
        "\n",
        "print(\"Accuracy:\", accuracy_score(y_test, y_pred)*100)\n",
        "\n"
      ],
      "execution_count": 16,
      "outputs": [
        {
          "output_type": "stream",
          "text": [
            "Accuracy: 84.01237751418257\n"
          ],
          "name": "stdout"
        }
      ]
    },
    {
      "cell_type": "code",
      "metadata": {
        "id": "n9VXL8AKU_lr",
        "colab_type": "code",
        "colab": {}
      },
      "source": [
        "# ----------------------------------------------- Result Visualization ---------------------------------------------- #\n",
        "\n",
        "export_graphviz(clf, out_file='tree_classifier.dot',\n",
        "                feature_names=[\"Date\", \"Location\", \"MinTemp\", \"MaxTemp\", \"Rainfall\", \"Evaporation\", \"Sunshine\",\n",
        "                               \"WindGustDir\", \"WindGustSpeed\", \"WindDir9am\", \"WindDir3pm\", \"WindSpeed9am\",\n",
        "                               \"WindSpeed3pm\", \"Humidity9am\", \"Humidity3pm\", \"Pressure9am\", \"Pressure3pm\", \"Cloud9am\",\n",
        "                               \"Cloud3pm\", \"Temp9am\", \"Temp3pm\", \"RainToday\"],\n",
        "                class_names=[\"Yes\", \"No\"])\n",
        "\n",
        "# Open Terminal:  dot -Tpng tree_classifier.dot -o tree_classifier.png => save it as png\n",
        "# Samples = how many sample in the node\n",
        "# Values = are class probabilities"
      ],
      "execution_count": 0,
      "outputs": []
    }
  ]
}