{
  "nbformat": 4,
  "nbformat_minor": 0,
  "metadata": {
    "colab": {
      "name": "challenge-titanic-survivors-c.ipynb",
      "provenance": [],
      "authorship_tag": "ABX9TyM09ePd9DqICJl03nyn0e/r",
      "include_colab_link": true
    },
    "kernelspec": {
      "name": "python3",
      "display_name": "Python 3"
    }
  },
  "cells": [
    {
      "cell_type": "markdown",
      "metadata": {
        "id": "view-in-github",
        "colab_type": "text"
      },
      "source": [
        "<a href=\"https://colab.research.google.com/github/Ruqyai/ds/blob/master/unit3/titanic-survivors/challenge_titanic_survivors_c.ipynb\" target=\"_parent\"><img src=\"https://colab.research.google.com/assets/colab-badge.svg\" alt=\"Open In Colab\"/></a>"
      ]
    },
    {
      "cell_type": "code",
      "metadata": {
        "id": "i6V8MVjQy3i6",
        "colab_type": "code",
        "colab": {
          "base_uri": "https://localhost:8080/",
          "height": 88
        },
        "outputId": "be6df5eb-5a28-41e5-93c6-c3da43c13523"
      },
      "source": [
        "import pandas as pd\n",
        "import numpy as np\n",
        "from sklearn.tree import DecisionTreeClassifier\n",
        "from sklearn.model_selection import train_test_split\n",
        "from sklearn.metrics import accuracy_score\n",
        "import matplotlib.pyplot as plt\n",
        "import seaborn as sns\n",
        "from sklearn.tree import export_graphviz\n",
        "\n",
        "\n",
        "dataset = pd.read_csv('titanic.csv')\n",
        "\n",
        "# Check if there are any missing values\n",
        "# sns.set()\n",
        "# sns.heatmap(dataset.isnull(), cmap='viridis')\n",
        "# plt.show()\n",
        "\n",
        "# Missing values are found in Age and Cabin columns. We can solve Age only by fill them with the median or avg\n",
        "dataset['Age'] = dataset['Age'].fillna(dataset['Age'].median())\n",
        "\n",
        "# Feature Engineering\n",
        "features = ['PassengerId', 'Pclass', 'Age', 'SibSp', 'Parch', 'Fare']\n",
        "target = dataset['Survived']\n",
        "\n",
        "# Split dataset into training set and test set 70% training and 30% test\n",
        "X_train, X_test, y_train, y_test = train_test_split(dataset[features], target, test_size=0.3, random_state=0)\n",
        "\n",
        "# Create the model\n",
        "clf = DecisionTreeClassifier(max_depth=4)\n",
        "\n",
        "# Train the model\n",
        "clf.fit(X_train, y_train)\n",
        "\n",
        "# Test the model\n",
        "y_pred = clf.predict(X_test)\n",
        "\n",
        "# Evaluate the model\n",
        "print(\"Accuracy:\", accuracy_score(y_test, y_pred)*100)  # 75.0"
      ],
      "execution_count": 1,
      "outputs": [
        {
          "output_type": "stream",
          "text": [
            "Accuracy: 75.0\n"
          ],
          "name": "stdout"
        },
        {
          "output_type": "stream",
          "text": [
            "/usr/local/lib/python3.6/dist-packages/statsmodels/tools/_testing.py:19: FutureWarning: pandas.util.testing is deprecated. Use the functions in the public API at pandas.testing instead.\n",
            "  import pandas.util.testing as tm\n"
          ],
          "name": "stderr"
        }
      ]
    }
  ]
}