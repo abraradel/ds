{
  "nbformat": 4,
  "nbformat_minor": 0,
  "metadata": {
    "colab": {
      "name": "challenge-titanic-survivors-r.ipynb",
      "provenance": [],
      "authorship_tag": "ABX9TyOOl4gG4WUhSJ5AYeGJ32FF",
      "include_colab_link": true
    },
    "kernelspec": {
      "name": "python3",
      "display_name": "Python 3"
    }
  },
  "cells": [
    {
      "cell_type": "markdown",
      "metadata": {
        "id": "view-in-github",
        "colab_type": "text"
      },
      "source": [
        "<a href=\"https://colab.research.google.com/github/Ruqyai/ds/blob/master/unit3/titanic-survivors/challenge_titanic_survivors_r.ipynb\" target=\"_parent\"><img src=\"https://colab.research.google.com/assets/colab-badge.svg\" alt=\"Open In Colab\"/></a>"
      ]
    },
    {
      "cell_type": "code",
      "metadata": {
        "id": "K3O_aJlN0A-X",
        "colab_type": "code",
        "colab": {
          "base_uri": "https://localhost:8080/",
          "height": 105
        },
        "outputId": "59ab176e-2002-4546-e6a5-5e9890d56c5b"
      },
      "source": [
        "import pandas as pd\n",
        "import numpy as np\n",
        "from sklearn.tree import DecisionTreeRegressor\n",
        "from sklearn.model_selection import train_test_split\n",
        "from sklearn.metrics import mean_squared_error\n",
        "import matplotlib.pyplot as plt\n",
        "import seaborn as sns\n",
        "from sklearn.tree import export_graphviz\n",
        "\n",
        "\n",
        "dataset = pd.read_csv('titanic.csv')\n",
        "\n",
        "\n",
        "# Check if there are any missing values\n",
        "# sns.set()\n",
        "# sns.heatmap(dataset.isnull(), cmap='viridis')\n",
        "# plt.show()\n",
        "\n",
        "# Missing values are found in Age and Cabin columns. We can solve Age only by fill them with the median\n",
        "dataset['Age'] = dataset['Age'].fillna(dataset['Age'].median())\n",
        "\n",
        "# Feature Engineering\n",
        "features = ['PassengerId', 'Pclass', 'Age', 'SibSp', 'Parch', 'Fare']\n",
        "target = dataset['Survived']\n",
        "\n",
        "# Split dataset into training set and test set 70% training and 30% test\n",
        "X_train, X_test, y_train, y_test = train_test_split(dataset[features], target, test_size=0.3, random_state=0)\n",
        "\n",
        "# Create the model\n",
        "clf = DecisionTreeRegressor(max_depth=4)\n",
        "\n",
        "# Train the model\n",
        "clf.fit(X_train, y_train)\n",
        "\n",
        "# Test the model\n",
        "y_pred = clf.predict(X_test)\n",
        "\n",
        "# Evaluate the model\n",
        "print(\"Mean Squared Error (MSE): \", mean_squared_error(y_test, y_pred))  # 0.18\n",
        "print(\"Root Mean Squared Error (RMSE): \", np.sqrt(mean_squared_error(y_test, y_pred)))  # 0.42"
      ],
      "execution_count": 1,
      "outputs": [
        {
          "output_type": "stream",
          "text": [
            "Mean Squared Error (MSE):  0.18339117505501928\n",
            "Root Mean Squared Error (RMSE):  0.4282419585409857\n"
          ],
          "name": "stdout"
        },
        {
          "output_type": "stream",
          "text": [
            "/usr/local/lib/python3.6/dist-packages/statsmodels/tools/_testing.py:19: FutureWarning: pandas.util.testing is deprecated. Use the functions in the public API at pandas.testing instead.\n",
            "  import pandas.util.testing as tm\n"
          ],
          "name": "stderr"
        }
      ]
    }
  ]
}