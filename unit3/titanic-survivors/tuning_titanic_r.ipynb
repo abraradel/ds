{
  "nbformat": 4,
  "nbformat_minor": 0,
  "metadata": {
    "colab": {
      "name": "tuning-titanic-r.ipynb",
      "provenance": [],
      "authorship_tag": "ABX9TyMxLEgiOerMJnuvb0lpHAsl",
      "include_colab_link": true
    },
    "kernelspec": {
      "name": "python3",
      "display_name": "Python 3"
    }
  },
  "cells": [
    {
      "cell_type": "markdown",
      "metadata": {
        "id": "view-in-github",
        "colab_type": "text"
      },
      "source": [
        "<a href=\"https://colab.research.google.com/github/Ruqyai/ds/blob/master/unit3/titanic-survivors/tuning_titanic_r.ipynb\" target=\"_parent\"><img src=\"https://colab.research.google.com/assets/colab-badge.svg\" alt=\"Open In Colab\"/></a>"
      ]
    },
    {
      "cell_type": "code",
      "metadata": {
        "id": "sKUL-eWr1nj1",
        "colab_type": "code",
        "colab": {
          "base_uri": "https://localhost:8080/",
          "height": 322
        },
        "outputId": "17ac0a80-4157-4c03-c287-e051a03e7f5c"
      },
      "source": [
        "import pandas as pd\n",
        "import numpy as np\n",
        "from sklearn.tree import DecisionTreeRegressor\n",
        "from sklearn.model_selection import train_test_split\n",
        "from sklearn.metrics import mean_squared_error\n",
        "import matplotlib.pyplot as plt\n",
        "import seaborn as sns\n",
        "from sklearn.tree import export_graphviz\n",
        "\n",
        "\n",
        "dataset = pd.read_csv('titanic.csv')\n",
        "\n",
        "\n",
        "# Check if there are any missing values\n",
        "# sns.set()\n",
        "# sns.heatmap(dataset.isnull(), cmap='viridis')\n",
        "# plt.show()\n",
        "\n",
        "# Missing values are found in Age and Cabin columns. We can solve Age only by fill them with the median\n",
        "dataset['Age'] = dataset['Age'].fillna(dataset['Age'].median())\n",
        "\n",
        "# Feature Engineering\n",
        "features = ['PassengerId', 'Pclass', 'Age', 'SibSp', 'Parch', 'Fare']\n",
        "target = dataset['Survived']\n",
        "\n",
        "# Split dataset into training set and test set 70% training and 30% test\n",
        "X_train, X_test, y_train, y_test = train_test_split(dataset[features], target, test_size=0.3, random_state=0)\n",
        "\n",
        "\n",
        "max_depth_range = list(range(1, 10))\n",
        "# List to store the average RMSE for each value of max_depth:\n",
        "accuracy = []\n",
        "for depth in max_depth_range:\n",
        "    clf = DecisionTreeRegressor(max_depth=depth,\n",
        "                                 random_state=0)\n",
        "    clf.fit(X_train, y_train)\n",
        "    score = clf.score(X_test, y_test)\n",
        "    accuracy.append(score)\n",
        "\n",
        "sns.set()\n",
        "sns.lineplot(max_depth_range, accuracy)\n",
        "plt.show()"
      ],
      "execution_count": 1,
      "outputs": [
        {
          "output_type": "stream",
          "text": [
            "/usr/local/lib/python3.6/dist-packages/statsmodels/tools/_testing.py:19: FutureWarning: pandas.util.testing is deprecated. Use the functions in the public API at pandas.testing instead.\n",
            "  import pandas.util.testing as tm\n"
          ],
          "name": "stderr"
        },
        {
          "output_type": "display_data",
          "data": {
            "image/png": "[encoded data removed]",
            "text/plain": [
              "<Figure size 432x288 with 1 Axes>"
            ]
          },
          "metadata": {
            "tags": []
          }
        }
      ]
    }
  ]
}