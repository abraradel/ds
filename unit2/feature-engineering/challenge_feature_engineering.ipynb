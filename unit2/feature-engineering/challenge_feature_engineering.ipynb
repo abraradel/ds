{
  "nbformat": 4,
  "nbformat_minor": 0,
  "metadata": {
    "colab": {
      "name": "challenge-feature-engineering.ipynb",
      "provenance": [],
      "authorship_tag": "ABX9TyMje9eiVVgNFK+1UemrsxrR",
      "include_colab_link": true
    },
    "kernelspec": {
      "name": "python3",
      "display_name": "Python 3"
    }
  },
  "cells": [
    {
      "cell_type": "markdown",
      "metadata": {
        "id": "view-in-github",
        "colab_type": "text"
      },
      "source": [
        "<a href=\"https://colab.research.google.com/github/Ruqyai/ds/blob/master/unit2/feature-engineering/challenge_feature_engineering.ipynb\" target=\"_parent\"><img src=\"https://colab.research.google.com/assets/colab-badge.svg\" alt=\"Open In Colab\"/></a>"
      ]
    },
    {
      "cell_type": "code",
      "metadata": {
        "id": "9MjVQNjgS0Jd",
        "colab_type": "code",
        "colab": {
          "base_uri": "https://localhost:8080/",
          "height": 153
        },
        "outputId": "d0c7486c-632e-4c50-afa8-2d0259ec7e6c"
      },
      "source": [
        "import pandas as pd\n",
        "\n",
        "video_game_sales = pd.read_csv('vgsales.csv')\n",
        "\n",
        "video_game_sales['Total_sales'] = video_game_sales['NA_Sales'] + video_game_sales['EU_Sales'] \\\n",
        "                                 + video_game_sales['JP_Sales'] + video_game_sales['Other_Sales']\n",
        "\n",
        "print(video_game_sales.head())"
      ],
      "execution_count": 1,
      "outputs": [
        {
          "output_type": "stream",
          "text": [
            "   Rank                      Name Platform  ...  JP_Sales Other_Sales Total_sales\n",
            "0     1                Wii Sports      Wii  ...      3.77        8.46       82.74\n",
            "1     2         Super Mario Bros.      NES  ...      6.81        0.77       40.24\n",
            "2     3            Mario Kart Wii      Wii  ...      3.79        3.31       35.83\n",
            "3     4         Wii Sports Resort      Wii  ...      3.28        2.96       33.00\n",
            "4     5  Pokemon Red/Pokemon Blue       GB  ...     10.22        1.00       31.38\n",
            "\n",
            "[5 rows x 11 columns]\n"
          ],
          "name": "stdout"
        }
      ]
    }
  ]
}