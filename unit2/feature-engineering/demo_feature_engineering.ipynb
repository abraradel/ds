{
  "nbformat": 4,
  "nbformat_minor": 0,
  "metadata": {
    "colab": {
      "name": "demo-feature-engineering.ipynb",
      "provenance": [],
      "authorship_tag": "ABX9TyNpB8u7UGax4KwiQNsRjZ25",
      "include_colab_link": true
    },
    "kernelspec": {
      "name": "python3",
      "display_name": "Python 3"
    }
  },
  "cells": [
    {
      "cell_type": "markdown",
      "metadata": {
        "id": "view-in-github",
        "colab_type": "text"
      },
      "source": [
        "<a href=\"https://colab.research.google.com/github/Ruqyai/ds/blob/master/unit2/feature-engineering/demo_feature_engineering.ipynb\" target=\"_parent\"><img src=\"https://colab.research.google.com/assets/colab-badge.svg\" alt=\"Open In Colab\"/></a>"
      ]
    },
    {
      "cell_type": "code",
      "metadata": {
        "id": "k7V_W122T4vz",
        "colab_type": "code",
        "colab": {}
      },
      "source": [
        "import pandas as pd\n",
        "\n",
        "'''\n",
        "Predicting the age of abalone from physical measurements. The age of abalone is determined by cutting the shell\n",
        "through the cone, staining it, and counting the number of rings through a microscope -- a boring and time-consuming\n",
        "task. Other measurements, which are easier to obtain, are used to predict the age. Further information,\n",
        "such as weather patterns and location (hence food availability) may be required to solve the problem.\n",
        "'''\n",
        "\n",
        "snails = pd.read_csv('abalone.csv')\n",
        "\n",
        "\n",
        "# Create new feature age = Rings + 1.5\n",
        "snails['age'] = snails['Rings'] + 1.5\n",
        "# print(snails.head())\n",
        "\n",
        "\n",
        "# Create categories from age column\n",
        "def create_age_categories(age):\n",
        "    if age < 9.5:\n",
        "        return 'Young'\n",
        "    elif age > 12.5:\n",
        "        return 'Old'\n",
        "    else:\n",
        "        return 'Middle-aged'\n",
        "\n",
        "\n",
        "# Pandas.apply allow the users to pass a function and apply it on every single value of the Pandas series.\n",
        "snails['categorical_age'] = snails['age'].apply(create_age_categories)\n",
        "# print(snails.head())\n",
        "\n",
        "\n",
        "# What if our algorithm needs categories expressed as integer? => Convert string categories into integers!\n",
        "age_to_int = {'Young': 1, 'Middle-aged': 2, 'Old': 3}\n",
        "\n",
        "snails['categorical_age_int'] = snails['categorical_age'].map(age_to_int)\n",
        "# print(snails.head())"
      ],
      "execution_count": 0,
      "outputs": []
    }
  ]
}