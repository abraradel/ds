{
  "nbformat": 4,
  "nbformat_minor": 0,
  "metadata": {
    "colab": {
      "name": "demo-exploratory-data-analysis.ipynb",
      "provenance": [],
      "authorship_tag": "ABX9TyMv22eqQ7ITAzMVHUxZre2t",
      "include_colab_link": true
    },
    "kernelspec": {
      "name": "python3",
      "display_name": "Python 3"
    }
  },
  "cells": [
    {
      "cell_type": "markdown",
      "metadata": {
        "id": "view-in-github",
        "colab_type": "text"
      },
      "source": [
        "<a href=\"https://colab.research.google.com/github/Ruqyai/ds/blob/master/unit2/exploratory-data-analysis-preprocessing/demo_exploratory_data_analysis.ipynb\" target=\"_parent\"><img src=\"https://colab.research.google.com/assets/colab-badge.svg\" alt=\"Open In Colab\"/></a>"
      ]
    },
    {
      "cell_type": "code",
      "metadata": {
        "id": "ToTo8I85HNyI",
        "colab_type": "code",
        "colab": {}
      },
      "source": [
        "import pandas as pd\n",
        "import matplotlib.pyplot as plt\n",
        "import seaborn as sns"
      ],
      "execution_count": 0,
      "outputs": []
    },
    {
      "cell_type": "code",
      "metadata": {
        "id": "A5ymoiOeHY3f",
        "colab_type": "code",
        "colab": {}
      },
      "source": [
        "df = pd.read_csv('HR_dataset.csv')\n",
        "\n",
        "\n",
        "# First five rows\n",
        "# print(df.head())\n",
        "\n",
        "# DataFrame shape (rows, columns)\n",
        "# print(df.shape)\n",
        "\n",
        "# To find what all columns it contains, of what types and if they contain any value in it or not.\n",
        "# print(df.info())\n",
        "\n",
        "# To find the count, mean, standard deviation, minimum and maximum values and the quantities of the data.\n",
        "# print(df.describe())\n",
        "\n",
        "# Visualization\n",
        "# sns.set()\n",
        "\n",
        "# Check if there is any missing value\n",
        "# sns.heatmap(df.isnull(), cmap='viridis')\n",
        "\n",
        "# Check if there is any outlier in \"Pay Rate\" column\n",
        "# sns.boxplot(df['Pay Rate'].values, orient='v')\n",
        "\n",
        "# Display the figure\n",
        "# plt.show()\n",
        "\n",
        "# Check if there are any duplicates.\n",
        "# Compare #rows in shape before and shape after.\n",
        "# If there is any difference, then there are duplicates and they have been removed.\n",
        "# print(\"Shape before:\", df.shape, '\\n------------')\n",
        "# print(df.drop_duplicates())\n",
        "# print(\"------------\\nShape after:\", df.shape)"
      ],
      "execution_count": 0,
      "outputs": []
    }
  ]
}