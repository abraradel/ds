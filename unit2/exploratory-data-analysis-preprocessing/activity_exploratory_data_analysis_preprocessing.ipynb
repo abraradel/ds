{
  "nbformat": 4,
  "nbformat_minor": 0,
  "metadata": {
    "colab": {
      "name": "activity-exploratory-data-analysis-preprocessing.ipynb",
      "provenance": [],
      "authorship_tag": "ABX9TyN817YhIlZJwl+ZtKK1SBT0",
      "include_colab_link": true
    },
    "kernelspec": {
      "name": "python3",
      "display_name": "Python 3"
    }
  },
  "cells": [
    {
      "cell_type": "markdown",
      "metadata": {
        "id": "view-in-github",
        "colab_type": "text"
      },
      "source": [
        "<a href=\"https://colab.research.google.com/github/Ruqyai/ds/blob/master/unit2/exploratory-data-analysis-preprocessing/activity_exploratory_data_analysis_preprocessing.ipynb\" target=\"_parent\"><img src=\"https://colab.research.google.com/assets/colab-badge.svg\" alt=\"Open In Colab\"/></a>"
      ]
    },
    {
      "cell_type": "code",
      "metadata": {
        "id": "0FEoc5QYGVZP",
        "colab_type": "code",
        "colab": {
          "base_uri": "https://localhost:8080/",
          "height": 71
        },
        "outputId": "6e98f6d0-2dac-4235-fdb5-e8584827d5a9"
      },
      "source": [
        "import pandas as pd\n",
        "import seaborn as sns"
      ],
      "execution_count": 1,
      "outputs": [
        {
          "output_type": "stream",
          "text": [
            "/usr/local/lib/python3.6/dist-packages/statsmodels/tools/_testing.py:19: FutureWarning: pandas.util.testing is deprecated. Use the functions in the public API at pandas.testing instead.\n",
            "  import pandas.util.testing as tm\n"
          ],
          "name": "stderr"
        }
      ]
    },
    {
      "cell_type": "code",
      "metadata": {
        "id": "9MIRi_C_GYwe",
        "colab_type": "code",
        "colab": {}
      },
      "source": [
        "list1 = [200, 300, 3400, 500, 100, 600, -1050, 700, 800]\n",
        "\n",
        "# TODO: Convert into DataFrame\n"
      ],
      "execution_count": 2,
      "outputs": []
    },
    {
      "cell_type": "code",
      "metadata": {
        "id": "G2RjIEJaepKG",
        "colab_type": "code",
        "colab": {}
      },
      "source": [
        "# TODO: Remove Outliers by given an interval. the values outside the interval are clipped. \n"
      ],
      "execution_count": 3,
      "outputs": []
    },
    {
      "cell_type": "code",
      "metadata": {
        "id": "JmEPrA72Gb8_",
        "colab_type": "code",
        "colab": {}
      },
      "source": [
        "# TODO: Is there any outlier in \"list1\"? If yes, solve the problem!"
      ],
      "execution_count": 4,
      "outputs": []
    }
  ]
}