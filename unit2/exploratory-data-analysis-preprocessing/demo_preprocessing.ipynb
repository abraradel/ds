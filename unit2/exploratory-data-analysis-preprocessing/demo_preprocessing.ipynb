{
  "nbformat": 4,
  "nbformat_minor": 0,
  "metadata": {
    "colab": {
      "name": "demo-preprocessing.ipynb",
      "provenance": [],
      "authorship_tag": "ABX9TyPpg8VMRfcxWjY0JWwyw3so",
      "include_colab_link": true
    },
    "kernelspec": {
      "name": "python3",
      "display_name": "Python 3"
    }
  },
  "cells": [
    {
      "cell_type": "markdown",
      "metadata": {
        "id": "view-in-github",
        "colab_type": "text"
      },
      "source": [
        "<a href=\"https://colab.research.google.com/github/Ruqyai/ds/blob/master/unit2/exploratory-data-analysis-preprocessing/demo_preprocessing.ipynb\" target=\"_parent\"><img src=\"https://colab.research.google.com/assets/colab-badge.svg\" alt=\"Open In Colab\"/></a>"
      ]
    },
    {
      "cell_type": "code",
      "metadata": {
        "id": "QAkEFgrkNzKH",
        "colab_type": "code",
        "colab": {}
      },
      "source": [
        "import pandas as pd\n",
        "import matplotlib.pyplot as plt\n",
        "import seaborn as sns\n",
        "\n",
        "df = pd.read_csv('HR_dataset.csv')"
      ],
      "execution_count": 0,
      "outputs": []
    },
    {
      "cell_type": "code",
      "metadata": {
        "id": "eoBCiHkUN2eC",
        "colab_type": "code",
        "colab": {}
      },
      "source": [
        "# Remove missing values.\n",
        "# Since the missing value here found in \"Date of Termination\" column, we can't apply any statistical calculation.\n",
        "# The solutions are either to drop this column or fill it manually.\n",
        "df = df.drop(columns='Date of Termination', axis=1)\n",
        "\n",
        "# sns.set()\n",
        "\n",
        "# Check if there is any missing value\n",
        "# sns.heatmap(df.isnull(), cmap='viridis')"
      ],
      "execution_count": 0,
      "outputs": []
    },
    {
      "cell_type": "code",
      "metadata": {
        "id": "u_V6_FV2OA5x",
        "colab_type": "code",
        "colab": {}
      },
      "source": [
        "# Remove outliers\n",
        "df['Pay Rate'] = df['Pay Rate'].clip(14, 77)\n",
        "\n",
        "# sns.boxplot(df['Pay Rate'].values, orient='v')\n",
        "\n",
        "# plt.show()\n",
        "\n",
        "# If there were any duplicates, we can do the following: df = df.drop_duplicates()\n",
        "# => remove them then update the DataFrame"
      ],
      "execution_count": 0,
      "outputs": []
    }
  ]
}